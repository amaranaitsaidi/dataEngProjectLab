{
 "cells": [
  {
   "cell_type": "markdown",
   "metadata": {
    "colab_type": "text",
    "id": "kFGKKN4vbaaE"
   },
   "source": [
    "# Lists"
   ]
  },
  {
   "cell_type": "markdown",
   "metadata": {
    "colab_type": "text",
    "id": "UlVSgMBObdHP"
   },
   "source": [
    "Here is a list [\"Hello\", \"I\", \"Michel\", \"am\"]\n",
    "\n",
    "1. Store this list in a variable we'll call michel\n",
    "2. Make a loop so that the console returns each of the items in the list"
   ]
  },
  {
   "cell_type": "code",
   "execution_count": null,
   "metadata": {
    "colab": {
     "base_uri": "https://localhost:8080/",
     "height": 88
    },
    "colab_type": "code",
    "id": "RnQP07OQbJZy",
    "outputId": "e4a60cd9-35dc-49d8-e0e4-e66e7db017e7"
   },
   "outputs": [
    {
     "name": "stdout",
     "output_type": "stream",
     "text": [
      "Hello\n",
      "I\n",
      "Michel\n",
      "am\n"
     ]
    }
   ],
   "source": [
    "michel  = [\"Hello\", \"I\", \"Michel\", \"am\"]"
   ]
  },
  {
   "cell_type": "markdown",
   "metadata": {
    "colab_type": "text",
    "id": "xiFEi_IIbs7l"
   },
   "source": [
    "We have a problem with this sentence, two words are reversed. Find a way to invert the last item with the next-to-last item..."
   ]
  },
  {
   "cell_type": "code",
   "execution_count": 2,
   "metadata": {
    "colab": {
     "base_uri": "https://localhost:8080/",
     "height": 88
    },
    "colab_type": "code",
    "id": "fBz1VsYDbv-m",
    "outputId": "6e6e00c3-edac-4960-e65b-d76d39143d1e"
   },
   "outputs": [
    {
     "name": "stdout",
     "output_type": "stream",
     "text": [
      "Hello\n",
      "I\n",
      "am\n",
      "Michel\n"
     ]
    }
   ],
   "source": []
  },
  {
   "cell_type": "markdown",
   "metadata": {
    "colab_type": "text",
    "id": "hrZ1HLVneoRC"
   },
   "source": [
    "Here's a list of ages: [12, 16, 34, 58, 9].\n",
    "\n",
    "1. Store this age list in a variable that we'll call: \n",
    "\n",
    "```\n",
    "age\n",
    "```\n",
    "\n",
    "2. We would like this list to be arranged in ascending order, how do we do that?"
   ]
  },
  {
   "cell_type": "code",
   "execution_count": 3,
   "metadata": {
    "colab": {
     "base_uri": "https://localhost:8080/",
     "height": 34
    },
    "colab_type": "code",
    "id": "vRrlfGsQb0TA",
    "outputId": "6f19757d-d294-4a9f-c150-9bb2ca06c481"
   },
   "outputs": [
    {
     "name": "stdout",
     "output_type": "stream",
     "text": [
      "[9, 12, 16, 34, 58]\n"
     ]
    }
   ],
   "source": []
  },
  {
   "cell_type": "markdown",
   "metadata": {
    "colab_type": "text",
    "id": "hyAAuD2-fFMD"
   },
   "source": [
    "# Dictionaries"
   ]
  },
  {
   "cell_type": "markdown",
   "metadata": {
    "colab_type": "text",
    "id": "3-kpKLpmfKGM"
   },
   "source": [
    "We told you that dictionaries are very useful with APIs, so let's try to use the Star Wars API.\n",
    "\n",
    "1. In your text editor, write:\n",
    "\n",
    "```\n",
    "import requests\n",
    "request = requests.get(\"https://swapi.dev/api/people/1/\")\n",
    "dic = request.json()\n",
    "```\n",
    "\n",
    "2. This will make it possible to call the Star Wars API to store it on a dictionary format in a variable called _dic_.\n",
    "\n",
    "3. See what's in the dictionary via a loop\n",
    "\n",
    "4. We'd like to make a nice phrase to describe the character like this: \n",
    "\n",
    "`“{{name}} is {{height}} cm tall and weighs {{mass}} kg. He was born in {{birth_year}}”`\n"
   ]
  },
  {
   "cell_type": "code",
   "execution_count": 1,
   "metadata": {
    "colab": {
     "base_uri": "https://localhost:8080/",
     "height": 35
    },
    "colab_type": "code",
    "id": "Ef9wS-ule6Rs",
    "outputId": "9b99d534-01ae-46b4-b226-3bda2a197ef6"
   },
   "outputs": [],
   "source": [
    "import requests\n",
    "request = requests.get(\"https://swapi.dev/api/people/1/\")\n",
    "dic  = request.json()"
   ]
  },
  {
   "cell_type": "code",
   "execution_count": 2,
   "metadata": {
    "colab": {
     "base_uri": "https://localhost:8080/",
     "height": 34
    },
    "colab_type": "code",
    "id": "0AWON7CZf_aI",
    "outputId": "8ad3784a-0d9e-4a5a-ef05-9050de332da1"
   },
   "outputs": [
    {
     "name": "stdout",
     "output_type": "stream",
     "text": [
      "('name', 'Luke Skywalker')\n",
      "('height', '172')\n",
      "('mass', '77')\n",
      "('hair_color', 'blond')\n",
      "('skin_color', 'fair')\n",
      "('eye_color', 'blue')\n",
      "('birth_year', '19BBY')\n",
      "('gender', 'male')\n",
      "('homeworld', 'https://swapi.dev/api/planets/1/')\n",
      "('films', ['https://swapi.dev/api/films/1/', 'https://swapi.dev/api/films/2/', 'https://swapi.dev/api/films/3/', 'https://swapi.dev/api/films/6/'])\n",
      "('species', [])\n",
      "('vehicles', ['https://swapi.dev/api/vehicles/14/', 'https://swapi.dev/api/vehicles/30/'])\n",
      "('starships', ['https://swapi.dev/api/starships/12/', 'https://swapi.dev/api/starships/22/'])\n",
      "('created', '2014-12-09T13:50:51.644000Z')\n",
      "('edited', '2014-12-20T21:17:56.891000Z')\n",
      "('url', 'https://swapi.dev/api/people/1/')\n"
     ]
    }
   ],
   "source": [
    "for elem in dic.items():\n",
    "    print(elem)"
   ]
  },
  {
   "cell_type": "code",
   "execution_count": 3,
   "metadata": {},
   "outputs": [
    {
     "name": "stdout",
     "output_type": "stream",
     "text": [
      "Luke Skywalker is 172 cm tall and weighs 77 kg. He was born in 19BBY\n"
     ]
    }
   ],
   "source": [
    "print(f\"{dic['name']} is {dic['height']} cm tall and weighs {dic['mass']} kg. He was born in {dic['birth_year']}\")"
   ]
  },
  {
   "cell_type": "markdown",
   "metadata": {
    "colab_type": "text",
    "id": "aQsKk1BKg4Mt"
   },
   "source": [
    "# Slices"
   ]
  },
  {
   "cell_type": "markdown",
   "metadata": {
    "colab_type": "text",
    "id": "0PIM5zcfg94N"
   },
   "source": [
    "We have the following dataset: `kilometres_travelled = [50, 10, 100, 25, 1000, 21, 12,30]`.\n",
    " \n",
    "1. This variable represents a list of kilometres travelled every morning by 8 users to work.\n",
    "2. Using a loop, calculate the total average of all the users' trips\n",
    "3. Is this average representative of what all individuals really go through? Why do you think so?"
   ]
  },
  {
   "cell_type": "code",
   "execution_count": 21,
   "metadata": {
    "colab": {
     "base_uri": "https://localhost:8080/",
     "height": 34
    },
    "colab_type": "code",
    "id": "GbysQcOhgfhF",
    "outputId": "2a436dee-11b0-4f76-8472-c720184fa356"
   },
   "outputs": [
    {
     "name": "stdout",
     "output_type": "stream",
     "text": [
      "1248\n",
      "156.0\n"
     ]
    },
    {
     "data": {
      "text/plain": [
       "\"\\n2-La distance moyenne parcourue par les 8 utilisateurs pour se rendre au travail est de 156 kilomètres.\\n3- Non, cette moyenne n'est pas représentative de la distance totale parcourue par les 8 utilisateurs. A cause de la valeur aberrante de 1000km. \\n\""
      ]
     },
     "execution_count": 21,
     "metadata": {},
     "output_type": "execute_result"
    }
   ],
   "source": [
    "kilometres_travelled = [50, 10, 100, 25, 1000, 21, 12,30]\n",
    "\n",
    "total = 0\n",
    "for elem in kilometres_travelled:\n",
    "    total += elem\n",
    "    \n",
    "moyenne = total / len(kilometres_travelled)\n",
    "print(total)\n",
    "print(moyenne)\n",
    "    \n",
    "\"\"\"\n",
    "2-La distance moyenne parcourue par les 8 utilisateurs pour se rendre au travail est de 156 kilomètres.\n",
    "3- Non, cette moyenne n'est pas représentative de la distance totale parcourue par les 8 utilisateurs. A cause de la valeur aberrante de 1000km. \n",
    "\"\"\""
   ]
  },
  {
   "cell_type": "markdown",
   "metadata": {
    "colab_type": "text",
    "id": "VL5vB43YhJV5"
   },
   "source": [
    "4. Change the variable kilometers_travelled to have a more representative average\n"
   ]
  },
  {
   "cell_type": "code",
   "execution_count": 22,
   "metadata": {},
   "outputs": [
    {
     "data": {
      "text/plain": [
       "1000"
      ]
     },
     "execution_count": 22,
     "metadata": {},
     "output_type": "execute_result"
    }
   ],
   "source": [
    "valeure_abberante = kilometres_travelled.pop(4)\n",
    "valeure_abberante\n"
   ]
  },
  {
   "cell_type": "code",
   "execution_count": 24,
   "metadata": {},
   "outputs": [
    {
     "name": "stdout",
     "output_type": "stream",
     "text": [
      "248\n",
      "35.42857142857143\n"
     ]
    }
   ],
   "source": [
    "total = 0\n",
    "for elem in kilometres_travelled:\n",
    "    total += elem\n",
    "    \n",
    "moyenne = total / len(kilometres_travelled)\n",
    "print(total)\n",
    "print(moyenne)"
   ]
  }
 ],
 "metadata": {
  "colab": {
   "collapsed_sections": [],
   "name": "Manipuler des collections de données - SOLUTIONS S1-2A.ipynb",
   "provenance": []
  },
  "kernelspec": {
   "display_name": "Python 3",
   "language": "python",
   "name": "python3"
  },
  "language_info": {
   "codemirror_mode": {
    "name": "ipython",
    "version": 3
   },
   "file_extension": ".py",
   "mimetype": "text/x-python",
   "name": "python",
   "nbconvert_exporter": "python",
   "pygments_lexer": "ipython3",
   "version": "3.10.11"
  }
 },
 "nbformat": 4,
 "nbformat_minor": 1
}
