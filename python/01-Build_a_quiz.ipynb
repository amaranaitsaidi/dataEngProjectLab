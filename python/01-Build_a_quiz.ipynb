{
 "cells": [
  {
   "cell_type": "markdown",
   "metadata": {
    "colab_type": "text",
    "id": "FY347VxWs_bJ"
   },
   "source": [
    "# Build a quizz\n",
    "\n",
    "---\n",
    "\n",
    "\n"
   ]
  },
  {
   "cell_type": "markdown",
   "metadata": {
    "colab_type": "text",
    "id": "qJizpyqVwYnF"
   },
   "source": [
    "Let's tackle our first project together. Find a partner and start coding a quiz together! Your program should: \n",
    "\n",
    "1. Ask a question to a user via the console \n",
    "2. Verify whether the answer is correct or not \n",
    "3. If the answer is correct, you should print out: `Good job! This is the right answer`\n",
    "\n",
    "* Else, it should print out : `Too bad! that is not the correct answer`\n",
    "\n",
    "4. Ask three questions following this model.\n",
    "\n"
   ]
  },
  {
   "cell_type": "code",
   "execution_count": 12,
   "metadata": {},
   "outputs": [],
   "source": [
    "quiz_dict = {\n",
    "        \"Q1\": {\n",
    "            \"question\": \"Si un triangle a une base de 5 cm et une hauteur de 10 cm, quelle est sa superficie ?\",\n",
    "            \"réponse\": 25  \n",
    "        },\n",
    "        \"Q2\": {\n",
    "            \"question\": \"Comment s'appelle le 47 ème président américain ?\",\n",
    "            \"réponse\": \"Donald Trump\"  \n",
    "        },\n",
    "        \"Q3\": {\n",
    "            \"question\": \"Comment s'appelle le patron de Neuralink ?\",\n",
    "            \"réponse\": \"Elon Musk\"  \n",
    "        }\n",
    "}\n"
   ]
  },
  {
   "cell_type": "code",
   "execution_count": null,
   "metadata": {},
   "outputs": [],
   "source": [
    "# on fait une méthode pour vérifier que la réponse de l'utilisateur est un int \n",
    "def is_integer(response):\n",
    "    try:\n",
    "        int(response)  \n",
    "        return True     \n",
    "    except ValueError:\n",
    "        return False\n",
    "    \n",
    "# on fait une méthode pour vérifier que la réponse de l'utilisateur est un str.   \n",
    "def is_string(response):\n",
    "    try:\n",
    "        str(response)  \n",
    "        return True     \n",
    "    except ValueError:\n",
    "        return False"
   ]
  },
  {
   "cell_type": "code",
   "execution_count": null,
   "metadata": {
    "colab": {
     "base_uri": "https://localhost:8080/",
     "height": 136
    },
    "colab_type": "code",
    "id": "EQxWuVl7yFoU",
    "outputId": "cf3ee10c-9d8f-4d96-82b0-f730321d4a2f"
   },
   "outputs": [
    {
     "name": "stdout",
     "output_type": "stream",
     "text": [
      "Q1: Si un triangle a une base de 5 cm et une hauteur de 10 cm, quelle est sa superficie ?\n",
      "Q2: Comment s'appelle le 47 ème président américain ?\n",
      "Q3: Comment s'appelle le patron de Neuralink ?\n"
     ]
    }
   ],
   "source": [
    "count = 0  \n",
    "for key, value in quiz_dict.items():\n",
    "    while True:  \n",
    "        print(f\"{key}: {value['question']}\")\n",
    "        reponse = input(\"Veuillez saisir votre réponse: \")\n",
    "        \n",
    "        if is_integer(value[\"réponse\"]) and is_integer(reponse):\n",
    "            reponse = int(reponse)\n",
    "            if reponse == value[\"réponse\"]:\n",
    "                print(\"Good job! This is the right answer\")\n",
    "                break  \n",
    "            else:\n",
    "                print(\"Too bad! that is not the correct answer\")\n",
    "                count += 1\n",
    "        elif is_string(value[\"réponse\"]) and is_string(reponse):\n",
    "            if reponse.strip().lower() == value[\"réponse\"].strip().lower():\n",
    "                print(\"Good job! This is the right answer\")\n",
    "                break  \n",
    "            else:\n",
    "                print(\"Too bad! that is not the correct answer\")\n",
    "                count += 1\n",
    "        else:\n",
    "            print(\"Veuillez saisir une réponse valide\")\n",
    "\n",
    "        if count >= 3: \n",
    "            print(\"Too bad, you lost the game!\")\n",
    "            exit()  \n"
   ]
  },
  {
   "cell_type": "markdown",
   "metadata": {
    "colab_type": "text",
    "id": "sLMbYgaOyxiX"
   },
   "source": [
    "There's a problem with our quizz : if the user has not given the right answer, the program goes to next question. We would rather like to ask again the same question if the answer was wrong.\n",
    "\n",
    "5. Using a `while` loop, make sure that the same question will be asked again when the answer was wrong\n",
    "\n",
    "6. Rewrite your code such that this behaviour is applied to all questions."
   ]
  },
  {
   "cell_type": "code",
   "execution_count": 2,
   "metadata": {
    "colab": {
     "base_uri": "https://localhost:8080/",
     "height": 170
    },
    "colab_type": "code",
    "id": "csyxqJzBxPfN",
    "outputId": "0e671bec-2b70-424e-f110-d4792423dd7a"
   },
   "outputs": [
    {
     "name": "stdout",
     "output_type": "stream",
     "text": [
      "Here you have our quiz !\n",
      "-------\n",
      "\n",
      "Question 1\n",
      "Your answer : 3\n",
      "Too bad! That is not the correct answer\n",
      "Your answer : 2\n",
      "Good job! This is the right answer\n",
      "\n",
      "Question 2\n",
      "Your answer : 1976\n",
      "Good job! This is the right answer\n",
      "\n",
      "Question 3\n",
      "Your answer : elon musk\n",
      "Good job! This is the right answer\n",
      "\n",
      "Well done! You are the quiz winner!\n"
     ]
    }
   ],
   "source": []
  },
  {
   "cell_type": "markdown",
   "metadata": {
    "colab_type": "text",
    "id": "nh4voWn8x3dM"
   },
   "source": [
    "Now, we would like to tackle a last problem : we want to allow only 3 wrong answers (among all questions).\n",
    "\n",
    "7. Improve your code : if the user makes 3 wrong answers, the program should stop and print (\"Too bad, you lost the game !\")\n"
   ]
  },
  {
   "cell_type": "code",
   "execution_count": 3,
   "metadata": {
    "colab": {
     "base_uri": "https://localhost:8080/",
     "height": 170
    },
    "colab_type": "code",
    "id": "adKPQe1Hsi2g",
    "outputId": "45d36fc8-90ae-4f00-b73a-73b1e6e57e6e",
    "tags": []
   },
   "outputs": [
    {
     "name": "stdout",
     "output_type": "stream",
     "text": [
      "Welcome to our quizz!\n",
      "You have 3 lives.\n",
      "\n",
      "Question 1:\n",
      "Your answer : 6\n",
      "Sorry, you have 2 chances left\n",
      "Your answer : 2\n",
      "Question 2:\n",
      "Your answer : 1980\n",
      "Sorry, you have 1 chances left\n",
      "Your answer : 1976\n",
      "Question 3:\n",
      "Your answer : steve jobs\n",
      "Sorry, you have 0 chances left\n",
      "Oh no, you lost the quiz...\n"
     ]
    }
   ],
   "source": []
  },
  {
   "cell_type": "code",
   "execution_count": 0,
   "metadata": {
    "colab": {},
    "colab_type": "code",
    "id": "rA-XJKh-orgc"
   },
   "outputs": [],
   "source": []
  }
 ],
 "metadata": {
  "colab": {
   "name": "Construire un quiz - SOLUTIONS S1-1A.ipynb",
   "provenance": []
  },
  "kernelspec": {
   "display_name": "lab-data",
   "language": "python",
   "name": "python3"
  },
  "language_info": {
   "codemirror_mode": {
    "name": "ipython",
    "version": 3
   },
   "file_extension": ".py",
   "mimetype": "text/x-python",
   "name": "python",
   "nbconvert_exporter": "python",
   "pygments_lexer": "ipython3",
   "version": "3.10.11"
  }
 },
 "nbformat": 4,
 "nbformat_minor": 1
}
