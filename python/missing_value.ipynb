{
 "cells": [
  {
   "cell_type": "code",
   "execution_count": null,
   "metadata": {},
   "outputs": [],
   "source": [
    "import statistics\n",
    "\n",
    "class Imputer():\n",
    "    def __init__(self, number_list: list):\n",
    "        self.list_number = number_list\n",
    "    \n",
    "    def avg(self):\n",
    "        # remove missings values \n",
    "        list_number = [x for x in self.list_number if x is not None]\n",
    "        return sum(list_number)/len(list_number)\n",
    "\n",
    "    def median(self):\n",
    "        # remove missings values \n",
    "        list_number = [x for x in self.list_number if x is not None]\n",
    "        return statistics.median(list_number)"
   ]
  },
  {
   "cell_type": "code",
   "execution_count": null,
   "metadata": {},
   "outputs": [
    {
     "name": "stdout",
     "output_type": "stream",
     "text": [
      "3.0\n"
     ]
    }
   ],
   "source": [
    "imputer = Imputer([1, 2, None, 4, 5])\n",
    "average = imputer.avg()"
   ]
  },
  {
   "cell_type": "code",
   "execution_count": null,
   "metadata": {},
   "outputs": [],
   "source": []
  }
 ],
 "metadata": {
  "kernelspec": {
   "display_name": "lab-data",
   "language": "python",
   "name": "python3"
  },
  "language_info": {
   "codemirror_mode": {
    "name": "ipython",
    "version": 3
   },
   "file_extension": ".py",
   "mimetype": "text/x-python",
   "name": "python",
   "nbconvert_exporter": "python",
   "pygments_lexer": "ipython3",
   "version": "3.10.11"
  }
 },
 "nbformat": 4,
 "nbformat_minor": 2
}
