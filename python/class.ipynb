{
 "cells": [
  {
   "cell_type": "code",
   "execution_count": 7,
   "metadata": {},
   "outputs": [],
   "source": [
    "from abc import ABC, abstractmethod\n",
    "\n",
    "# Classe abstraite\n",
    "class Vehicle():\n",
    "    def test(self):\n",
    "        pass  # Pas d'implémentation ici*\n",
    "class Car(Vehicle):\n",
    "    def make_sound(self):\n",
    "        return \"Vroom!\"\n",
    "\n",
    "class Bike(Vehicle):\n",
    "    def make_sound(self):\n",
    "        return \"Ring ring!\"\n",
    "\n",
    "# Créer des objets\n",
    "car = Car()\n",
    "bike = Bike()\n"
   ]
  },
  {
   "cell_type": "code",
   "execution_count": 12,
   "metadata": {},
   "outputs": [
    {
     "name": "stdout",
     "output_type": "stream",
     "text": [
      "Vroom!\n",
      "Ring ring!\n"
     ]
    }
   ],
   "source": [
    "print(car.make_sound())  # Affiche \"Vroom!\"\n",
    "print(bike.make_sound())  # Affiche \"Ring ring!\"\n"
   ]
  },
  {
   "cell_type": "code",
   "execution_count": 4,
   "metadata": {},
   "outputs": [],
   "source": [
    "class Math:\n",
    "    def square(self, x):\n",
    "        return x * x\n",
    "    \n",
    "    def average_of_list(self, list):\n",
    "        return sum(list) / len(list)\n",
    "    def even_or_odd(self, x):\n",
    "        if x % 2 == 0:\n",
    "            return \"even\"\n",
    "        else:\n",
    "            return \"odd\"\n",
    "    def total_sum_of_numbers(self, list):\n",
    "        return sum(list)\n",
    "    "
   ]
  },
  {
   "cell_type": "code",
   "execution_count": null,
   "metadata": {},
   "outputs": [],
   "source": [
    "instance = Math()\n",
    "square = instance.square(5)\n",
    "average = instance.average_of_list([1,2,3,4,5])\n",
    "even_or_odd = instance.even_or_odd(5)\n",
    "total_sum_of_numbers = instance.total_sum_of_numbers([1,2,3,4,5])"
   ]
  },
  {
   "cell_type": "code",
   "execution_count": null,
   "metadata": {},
   "outputs": [],
   "source": []
  }
 ],
 "metadata": {
  "kernelspec": {
   "display_name": "lab-data",
   "language": "python",
   "name": "python3"
  },
  "language_info": {
   "codemirror_mode": {
    "name": "ipython",
    "version": 3
   },
   "file_extension": ".py",
   "mimetype": "text/x-python",
   "name": "python",
   "nbconvert_exporter": "python",
   "pygments_lexer": "ipython3",
   "version": "3.10.11"
  }
 },
 "nbformat": 4,
 "nbformat_minor": 2
}
