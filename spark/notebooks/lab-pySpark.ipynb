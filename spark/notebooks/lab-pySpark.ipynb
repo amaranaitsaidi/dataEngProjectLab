{
 "cells": [
  {
   "cell_type": "markdown",
   "metadata": {},
   "source": [
    "RDD Spark et Opération. \n",
    "\n",
    "Un RDD est la structure de base pour le traitement des données dans Apache Spark. il s'agit d'une collection : \n",
    "- Résilent : si un noeud tombe, spark peut en reconstruire le RDD à partir des transformations initiales grace aux DAG\n",
    "- Distribué -> Les données sont distribuées sur différents noeuds du cluster qui permet un traitement parallèle. \n",
    "- Immutable -> Une fois crée, un RDD ne peut pas être modifié, mais on peut en générer un nouveau à partir de transformation. \n",
    "- Layly Evaluated : les transformations appliquées sur le RDD tel que map, filter ne sont pas appliqué qu'au moment d'une action comme : collect(), count() etc.\n",
    "- Partitionné -> Spark divise automatiquement les données en partitions pour améliorer l'efficacité du calcul. \n",
    "\n",
    "- Transformations (créent un nouveau RDD) : map(), filter(), flatMap(), reduceByKey(), etc.\n",
    "- Actions (déclenchent l’exécution des transformations) : collect(), count(), reduce(), saveAsTextFile(), etc."
   ]
  },
  {
   "cell_type": "code",
   "execution_count": 21,
   "metadata": {},
   "outputs": [],
   "source": [
    "import pyspark\n",
    "from pyspark import SparkContext, SparkConf\n",
    "import random\n",
    "#créer un SparkContext\n",
    "sc = SparkContext.getOrCreate()\n"
   ]
  },
  {
   "cell_type": "code",
   "execution_count": 17,
   "metadata": {},
   "outputs": [],
   "source": [
    "#Exemple de création d'un RDD spark \n",
    "\n",
    "data = [1,2,3,4,5,6,7,8,9,10]\n",
    "rdd = sc.parallelize(data) # cétte opération permet de créer un RDD immutable. \n",
    "\n",
    "# Transformer les données : Nous allons les multiplier par 2\n",
    "rdd_multiplie = rdd.map(lambda x: x * 2)"
   ]
  },
  {
   "cell_type": "code",
   "execution_count": 18,
   "metadata": {},
   "outputs": [
    {
     "data": {
      "text/plain": [
       "PythonRDD[8] at RDD at PythonRDD.scala:53"
      ]
     },
     "execution_count": 18,
     "metadata": {},
     "output_type": "execute_result"
    }
   ],
   "source": [
    "rdd_multiplie"
   ]
  },
  {
   "cell_type": "code",
   "execution_count": 19,
   "metadata": {},
   "outputs": [
    {
     "data": {
      "text/plain": [
       "[2, 4, 6, 8, 10, 12, 14, 16, 18, 20]"
      ]
     },
     "execution_count": 19,
     "metadata": {},
     "output_type": "execute_result"
    }
   ],
   "source": [
    "# Action : Récupération des résultats. \n",
    "\n",
    "result = rdd_multiplie.collect()\n",
    "result"
   ]
  },
  {
   "cell_type": "code",
   "execution_count": 20,
   "metadata": {},
   "outputs": [
    {
     "data": {
      "text/plain": [
       "[\"I've seen things you people wouldn't believe. \",\n",
       " 'Attack ships on fire off the shoulder of Orion. ',\n",
       " 'I watched C-beams glitter in the dark near the Tannhäuser Gate. ']"
      ]
     },
     "execution_count": 20,
     "metadata": {},
     "output_type": "execute_result"
    }
   ],
   "source": [
    "text_rdd = sc.textFile('./tears_in_rain.txt')\n",
    "text_rdd.take(3)"
   ]
  },
  {
   "cell_type": "code",
   "execution_count": 22,
   "metadata": {},
   "outputs": [],
   "source": [
    "huge_list_of_numbers = 10_000_000\n",
    "\n",
    "large_rdd  = sc.parallelize(range(huge_list_of_numbers)).map(lambda x: random.randint(0, 1000))"
   ]
  },
  {
   "cell_type": "code",
   "execution_count": 23,
   "metadata": {},
   "outputs": [
    {
     "name": "stdout",
     "output_type": "stream",
     "text": [
      "le nombre d'élément : 10000000\n",
      "les 10 premiers éléments  : [490, 618, 973, 168, 162, 141, 995, 583, 622, 60]\n"
     ]
    }
   ],
   "source": [
    "print(f\"le nombre d'élément : {large_rdd.count()}\")\n",
    "print(f\"les 10 premiers éléments  : {large_rdd.take(10)}\")"
   ]
  },
  {
   "cell_type": "code",
   "execution_count": 24,
   "metadata": {},
   "outputs": [
    {
     "name": "stdout",
     "output_type": "stream",
     "text": [
      "la somme de cet immense rdd est : 5000589159\n"
     ]
    }
   ],
   "source": [
    "print(f\"la somme de cet immense rdd est : {large_rdd.sum()}\")"
   ]
  },
  {
   "cell_type": "code",
   "execution_count": null,
   "metadata": {},
   "outputs": [
    {
     "name": "stdout",
     "output_type": "stream",
     "text": [
      "la moyenne de cet immense rdd est : 4999792501\n"
     ]
    },
    {
     "name": "stderr",
     "output_type": "stream",
     "text": [
      "----------------------------------------\n",
      "Exception occurred during processing of request from ('127.0.0.1', 42090)\n",
      "Traceback (most recent call last):\n",
      "  File \"/opt/conda/lib/python3.11/socketserver.py\", line 317, in _handle_request_noblock\n",
      "    self.process_request(request, client_address)\n",
      "  File \"/opt/conda/lib/python3.11/socketserver.py\", line 348, in process_request\n",
      "    self.finish_request(request, client_address)\n",
      "  File \"/opt/conda/lib/python3.11/socketserver.py\", line 361, in finish_request\n",
      "    self.RequestHandlerClass(request, client_address, self)\n",
      "  File \"/opt/conda/lib/python3.11/socketserver.py\", line 755, in __init__\n",
      "    self.handle()\n",
      "  File \"/usr/local/spark/python/pyspark/accumulators.py\", line 295, in handle\n",
      "    poll(accum_updates)\n",
      "  File \"/usr/local/spark/python/pyspark/accumulators.py\", line 267, in poll\n",
      "    if self.rfile in r and func():\n",
      "                           ^^^^^^\n",
      "  File \"/usr/local/spark/python/pyspark/accumulators.py\", line 271, in accum_updates\n",
      "    num_updates = read_int(self.rfile)\n",
      "                  ^^^^^^^^^^^^^^^^^^^^\n",
      "  File \"/usr/local/spark/python/pyspark/serializers.py\", line 596, in read_int\n",
      "    raise EOFError\n",
      "EOFError\n",
      "----------------------------------------\n"
     ]
    }
   ],
   "source": [
    "print(f\"la moyenne de cet immense rdd est : {large_rdd.sum()}\")"
   ]
  },
  {
   "cell_type": "code",
   "execution_count": null,
   "metadata": {},
   "outputs": [],
   "source": []
  }
 ],
 "metadata": {
  "kernelspec": {
   "display_name": "Python 3 (ipykernel)",
   "language": "python",
   "name": "python3"
  },
  "language_info": {
   "codemirror_mode": {
    "name": "ipython",
    "version": 3
   },
   "file_extension": ".py",
   "mimetype": "text/x-python",
   "name": "python",
   "nbconvert_exporter": "python",
   "pygments_lexer": "ipython3",
   "version": "3.11.6"
  }
 },
 "nbformat": 4,
 "nbformat_minor": 2
}
