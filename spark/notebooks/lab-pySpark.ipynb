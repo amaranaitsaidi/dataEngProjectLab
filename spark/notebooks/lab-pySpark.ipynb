{
 "cells": [
  {
   "cell_type": "markdown",
   "metadata": {},
   "source": [
    "RDD Spark et Opération. \n",
    "\n",
    "Un RDD est la structure de base pour le traitement des données dans Apache Spark. il s'agit d'une collection : \n",
    "- Résilent : si un noeud tombe, spark peut en reconstruire le RDD à partir des transformations initiales grace aux DAG\n",
    "- Distribué -> Les données sont distribuées sur différents noeuds du cluster qui permet un traitement parallèle. \n",
    "- Immutable -> Une fois crée, un RDD ne peut pas être modifié, mais on peut en générer un nouveau à partir de transformation. \n",
    "- Layly Evaluated : les transformations appliquées sur le RDD tel que map, filter ne sont pas appliqué qu'au moment d'une action comme : collect(), count() etc.\n",
    "- Partitionné -> Spark divise automatiquement les données en partitions pour améliorer l'efficacité du calcul. \n",
    "\n",
    "- Transformations (créent un nouveau RDD) : map(), filter(), flatMap(), reduceByKey(), etc.\n",
    "- Actions (déclenchent l’exécution des transformations) : collect(), count(), reduce(), saveAsTextFile(), etc."
   ]
  },
  {
   "cell_type": "code",
   "execution_count": 1,
   "metadata": {},
   "outputs": [],
   "source": [
    "from pyspark import SparkContext\n",
    "from pyspark.sql import SparkSession\n",
    "import random\n",
    "#créer un SparkContext\n",
    "sc = SparkContext.getOrCreate()\n",
    "spark = SparkSession.builder.appName(\"RDD_to_DF\").getOrCreate()\n"
   ]
  },
  {
   "cell_type": "markdown",
   "metadata": {},
   "source": [
    "# <span style=\"color:red; font-size:1em; font-weight:bold\"> Différence entre SparkContext et SparkSession :</span> \n",
    "\n",
    "\n",
    "\n",
    "| 🏷️ Caractéristique  | ⚡ SparkContext (`sc`) | 🚀 SparkSession (`spark`) |\n",
    "|-----------------|-----------------|------------------|\n",
    "| **Définition** | Point d’entrée original de Spark pour accéder au cluster. | API unifiée introduite dans Spark 2.0 qui regroupe `SparkContext`, `SQLContext` et `HiveContext`. |\n",
    "| **Utilisation principale** | Manipulation bas niveau des RDDs. | Manipulation des DataFrames, SQL, streaming et interactions avec Spark SQL. |\n",
    "| **Création** | `sc = SparkContext.getOrCreate()` | `spark = SparkSession.builder.appName(\"App\").getOrCreate()` |\n",
    "| **Support SQL/DataFrame** | ❌ Non pris en charge directement. | ✅ Prise en charge complète (`spark.sql()`, `spark.read` etc.). |\n",
    "| **Accès au SparkContext** | ✅ C'est lui-même le contexte principal. | ✅ Peut accéder à `SparkContext` via `spark.sparkContext`. |\n"
   ]
  },
  {
   "cell_type": "code",
   "execution_count": 2,
   "metadata": {},
   "outputs": [],
   "source": [
    "#Exemple de création d'un RDD spark et de sa Transformation\n",
    "data = [1,2,3,4,5,6,7,8,9,10]\n",
    "rdd = sc.parallelize(data) # cétte opération permet de créer un RDD immutable. \n",
    "# Transformer les données : Nous allons les multiplier par 2\n",
    "rdd_multiplie = rdd.map(lambda x: x * 2)"
   ]
  },
  {
   "cell_type": "code",
   "execution_count": 3,
   "metadata": {},
   "outputs": [
    {
     "data": {
      "text/plain": [
       "[2, 4, 6, 8, 10, 12, 14, 16, 18, 20]"
      ]
     },
     "execution_count": 3,
     "metadata": {},
     "output_type": "execute_result"
    }
   ],
   "source": [
    "# Action : Récupération des résultats. \n",
    "result = rdd_multiplie.collect()\n",
    "result"
   ]
  },
  {
   "cell_type": "code",
   "execution_count": 4,
   "metadata": {},
   "outputs": [],
   "source": [
    "# lire le fichier .txt dans un RDD spark. \n",
    "text_rdd = sc.textFile('/home/jovyan/work/tears_in_rain.txt')"
   ]
  },
  {
   "cell_type": "code",
   "execution_count": 5,
   "metadata": {},
   "outputs": [
    {
     "data": {
      "text/plain": [
       "[\"I've seen things you people wouldn't believe. \",\n",
       " 'Attack ships on fire off the shoulder of Orion. ',\n",
       " 'I watched C-beams glitter in the dark near the Tannhäuser Gate. ']"
      ]
     },
     "execution_count": 5,
     "metadata": {},
     "output_type": "execute_result"
    }
   ],
   "source": [
    "# Afficher les 3 premier éléments de notre RDD\n",
    "text_rdd.take(3)"
   ]
  },
  {
   "cell_type": "code",
   "execution_count": 6,
   "metadata": {},
   "outputs": [
    {
     "name": "stdout",
     "output_type": "stream",
     "text": [
      "le nombre d'élément : 5\n",
      "les 10 premiers éléments  : [\"I've seen things you people wouldn't believe. \", 'Attack ships on fire off the shoulder of Orion. ', 'I watched C-beams glitter in the dark near the Tannhäuser Gate. ', 'All those moments will be lost in time, like tears in rain. ', 'Time to die.']\n"
     ]
    }
   ],
   "source": [
    "print(f\"le nombre d'élément : {text_rdd.count()}\")\n",
    "print(f\"les 10 premiers éléments  : {text_rdd.take(10)}\")"
   ]
  },
  {
   "cell_type": "code",
   "execution_count": 7,
   "metadata": {},
   "outputs": [],
   "source": [
    "# Spliter les phrases en listes de Mots\n",
    "split_text = text_rdd.map(lambda x: x.split())"
   ]
  },
  {
   "cell_type": "code",
   "execution_count": 8,
   "metadata": {},
   "outputs": [
    {
     "data": {
      "text/plain": [
       "[[\"I've\", 'seen', 'things', 'you', 'people', \"wouldn't\", 'believe.']]"
      ]
     },
     "execution_count": 8,
     "metadata": {},
     "output_type": "execute_result"
    }
   ],
   "source": [
    "split_text.take(1)"
   ]
  },
  {
   "cell_type": "markdown",
   "metadata": {},
   "source": [
    "<span style=\"color:red; font-size:1em; font-weight:bold\">L'exemple suivant permet de voir les points suivants :</span> \n",
    "\n",
    "- Génération d'une liste de nombre de 10 Millions contenues entre 1 et 1000 \n",
    "- Création d'un RDD Spark à l'aide de la fontion parrallelize()\n",
    "- Transformer les valeurs de la liste en Tuples pour pouvoir créer un DataFrame spark. \n",
    "- Création du DataFrame Spark à l'aide de la fonction createDataFrame. \n",
    "\n",
    "Pourquoi devons nous transformer les valeurs de notre liste en Tuple pour créer un DataFrame Spark ? \n",
    "\n",
    "La raison est due à la structure des données dans Spark. Généralement les données sont définies sous forme de tuple ou chaque tuple représente une colonne. \n",
    "\n",
    "liste = [1,2,3,4] --> Spark ne saura pas l'interpréter sous forme de lignes et des colonnes. Il est nécessaire de convertir en tuple sous forme de (1,), (2,)"
   ]
  },
  {
   "cell_type": "code",
   "execution_count": null,
   "metadata": {},
   "outputs": [],
   "source": [
    "number = 10_000_000\n",
    "rdd_numbers = sc.parallelize(range(number)).map(lambda x: random.randint(1 , 1000))\n",
    "df = spark.createDataFrame(rdd_numbers.map(lambda x: (x,)))\n",
    "display(df.show(3))"
   ]
  },
  {
   "cell_type": "markdown",
   "metadata": {},
   "source": [
    "# <span style=\"color:red; font-size:1em; font-weight:bold\">Requêter nos données grace à SparkSql</span> \n",
    "\n",
    "Executer des requêtes sql sur un dataframe SPARK nécessite de créer une vue d'une table en mémoire. aveec la fonctione .createOrReplaceTempView pour le charger en mémoire. A la suite de quoi nous pouvons exécuter nos requêtes sql. \n",
    "\n",
    "- La vue permet de requêter les données de manières plus optimale. \n",
    "- Attention : Si la vue existe déja, nous ne pouvons pas la récréer. Il faudrait alors soit la supprimer ou utiliser une clause if not exits. "
   ]
  },
  {
   "cell_type": "code",
   "execution_count": null,
   "metadata": {},
   "outputs": [],
   "source": [
    "# df.createTempView(\"my_view\") # première option \n",
    "df.createOrReplaceTempView(\"my_view\") # Deuxième option \n",
    "result = spark.sql(\"select * from my_view where _1 = 994\")\n",
    "result.show()"
   ]
  },
  {
   "cell_type": "code",
   "execution_count": 11,
   "metadata": {},
   "outputs": [
    {
     "data": {
      "text/plain": [
       "DataFrame[_1: bigint]"
      ]
     },
     "metadata": {},
     "output_type": "display_data"
    }
   ],
   "source": [
    "display(result)"
   ]
  },
  {
   "cell_type": "markdown",
   "metadata": {},
   "source": [
    "# <span style=\"color:red; font-size:1em; font-weight:bold\">Manipuler nos DataFrames</span> \n"
   ]
  },
  {
   "cell_type": "code",
   "execution_count": 12,
   "metadata": {},
   "outputs": [
    {
     "data": {
      "text/plain": [
       "Column<'_1'>"
      ]
     },
     "execution_count": 12,
     "metadata": {},
     "output_type": "execute_result"
    }
   ],
   "source": [
    "# Première façon d'accéder à nos colonne simplement en les référençant entre [\"\"]\n",
    "df[\"_1\"]"
   ]
  },
  {
   "cell_type": "markdown",
   "metadata": {},
   "source": [
    "### `functions` de PySpark\n",
    "Accéder aux colonnes grace au module de PySpark sql qui s'appel functions. \n",
    "En revanche cette méthode ne fonction qu'à l'intérieur des commandes sql. Raison pour laquelle on l'utilise dans la méthode select. \n",
    "Fonctions du module `functions` de PySpark\n",
    "\n",
    "Le module **`functions`** de PySpark propose une large gamme de fonctions pour effectuer des manipulations et des agrégations sur les colonnes d'un DataFrame. Voici quelques-unes des fonctions les plus couramment utilisées :\n",
    "\n",
    "### Résumé des fonctions de `functions` de PySpark :\n",
    "\n",
    "- **Sélection** : `col()`, `alias()`, `when()`, `lit()`, `cast()`.\n",
    "- **Agrégation** : `avg()`, `sum()`, `min()`, `max()`, `count()`, `countDistinct()`, `stddev()`, `variance()`, `first()`, `last()`.\n",
    "- **Fenêtre** : `row_number()`, `rank()`, `dense_rank()`, `ntile()`, `lag()`, `lead()`.\n",
    "- **Mathématiques** : `abs()`, `sqrt()`, `round()`, `exp()`, `log()`, `pow()`.\n",
    "- **Chaînes** : `length()`, `trim()`, `regexp_extract()`, `regexp_replace()`.\n",
    "- **Dates** : `current_date()`, `current_timestamp()`, `date_format()`, `to_date()`, `year()`, `month()`, `dayofmonth()`.\n",
    "- **Nulles** : `isNull()`, `isNotNull()`, `coalesce()`.\n",
    "- **Autres transformations** : `collect_list()`, `collect_set()`, `concat_ws()`.\n"
   ]
  },
  {
   "cell_type": "code",
   "execution_count": 13,
   "metadata": {},
   "outputs": [
    {
     "data": {
      "text/plain": [
       "DataFrame[_1: bigint]"
      ]
     },
     "execution_count": 13,
     "metadata": {},
     "output_type": "execute_result"
    }
   ],
   "source": [
    "from pyspark.sql import functions as f \n",
    "result.select(f.col(\"_1\"))"
   ]
  },
  {
   "cell_type": "code",
   "execution_count": 14,
   "metadata": {},
   "outputs": [
    {
     "data": {
      "text/plain": [
       "DataFrame[avg(_1): double]"
      ]
     },
     "execution_count": 14,
     "metadata": {},
     "output_type": "execute_result"
    }
   ],
   "source": [
    "result.select(f.avg(\"_1\"))"
   ]
  },
  {
   "cell_type": "markdown",
   "metadata": {},
   "source": [
    "### `Action` de PySpark"
   ]
  },
  {
   "cell_type": "code",
   "execution_count": null,
   "metadata": {},
   "outputs": [],
   "source": [
    "df.show()"
   ]
  },
  {
   "cell_type": "code",
   "execution_count": 16,
   "metadata": {},
   "outputs": [
    {
     "data": {
      "text/plain": [
       "[Row(_1=23), Row(_1=42)]"
      ]
     },
     "execution_count": 16,
     "metadata": {},
     "output_type": "execute_result"
    }
   ],
   "source": [
    "df.take(2)"
   ]
  },
  {
   "cell_type": "code",
   "execution_count": 17,
   "metadata": {},
   "outputs": [
    {
     "data": {
      "text/plain": [
       "10000000"
      ]
     },
     "execution_count": 17,
     "metadata": {},
     "output_type": "execute_result"
    }
   ],
   "source": [
    "df.count()"
   ]
  },
  {
   "cell_type": "code",
   "execution_count": 18,
   "metadata": {},
   "outputs": [
    {
     "data": {
      "text/plain": [
       "DataFrame[summary: string, _1: string]"
      ]
     },
     "execution_count": 18,
     "metadata": {},
     "output_type": "execute_result"
    }
   ],
   "source": [
    "df.describe()"
   ]
  },
  {
   "cell_type": "code",
   "execution_count": 19,
   "metadata": {},
   "outputs": [
    {
     "data": {
      "text/html": [
       "<div>\n",
       "<style scoped>\n",
       "    .dataframe tbody tr th:only-of-type {\n",
       "        vertical-align: middle;\n",
       "    }\n",
       "\n",
       "    .dataframe tbody tr th {\n",
       "        vertical-align: top;\n",
       "    }\n",
       "\n",
       "    .dataframe thead th {\n",
       "        text-align: right;\n",
       "    }\n",
       "</style>\n",
       "<table border=\"1\" class=\"dataframe\">\n",
       "  <thead>\n",
       "    <tr style=\"text-align: right;\">\n",
       "      <th></th>\n",
       "      <th>summary</th>\n",
       "      <th>_1</th>\n",
       "    </tr>\n",
       "  </thead>\n",
       "  <tbody>\n",
       "    <tr>\n",
       "      <th>0</th>\n",
       "      <td>count</td>\n",
       "      <td>10000000</td>\n",
       "    </tr>\n",
       "    <tr>\n",
       "      <th>1</th>\n",
       "      <td>mean</td>\n",
       "      <td>500.3427784</td>\n",
       "    </tr>\n",
       "    <tr>\n",
       "      <th>2</th>\n",
       "      <td>stddev</td>\n",
       "      <td>288.67221665815606</td>\n",
       "    </tr>\n",
       "    <tr>\n",
       "      <th>3</th>\n",
       "      <td>min</td>\n",
       "      <td>1</td>\n",
       "    </tr>\n",
       "    <tr>\n",
       "      <th>4</th>\n",
       "      <td>max</td>\n",
       "      <td>1000</td>\n",
       "    </tr>\n",
       "  </tbody>\n",
       "</table>\n",
       "</div>"
      ],
      "text/plain": [
       "  summary                  _1\n",
       "0   count            10000000\n",
       "1    mean         500.3427784\n",
       "2  stddev  288.67221665815606\n",
       "3     min                   1\n",
       "4     max                1000"
      ]
     },
     "execution_count": 19,
     "metadata": {},
     "output_type": "execute_result"
    }
   ],
   "source": [
    "df.describe().toPandas()"
   ]
  },
  {
   "cell_type": "code",
   "execution_count": 20,
   "metadata": {},
   "outputs": [
    {
     "data": {
      "text/plain": [
       "DataFrame[_1: bigint]"
      ]
     },
     "metadata": {},
     "output_type": "display_data"
    }
   ],
   "source": [
    "display(df)"
   ]
  },
  {
   "cell_type": "markdown",
   "metadata": {},
   "source": [
    "# <span style=\"color:red; font-size:1em; font-weight:bold\">Utiliser Limit pour récupérer qu'un nombre limiter de données</span> \n",
    "\n",
    "Lors de la manipulation des très gros volumes de données il faut veiller à ne pas faire des opérations qui peuvent saturer la mémoire. "
   ]
  },
  {
   "cell_type": "code",
   "execution_count": 21,
   "metadata": {},
   "outputs": [
    {
     "data": {
      "text/html": [
       "<div>\n",
       "<style scoped>\n",
       "    .dataframe tbody tr th:only-of-type {\n",
       "        vertical-align: middle;\n",
       "    }\n",
       "\n",
       "    .dataframe tbody tr th {\n",
       "        vertical-align: top;\n",
       "    }\n",
       "\n",
       "    .dataframe thead th {\n",
       "        text-align: right;\n",
       "    }\n",
       "</style>\n",
       "<table border=\"1\" class=\"dataframe\">\n",
       "  <thead>\n",
       "    <tr style=\"text-align: right;\">\n",
       "      <th></th>\n",
       "      <th>summary</th>\n",
       "      <th>_1</th>\n",
       "    </tr>\n",
       "  </thead>\n",
       "  <tbody>\n",
       "    <tr>\n",
       "      <th>0</th>\n",
       "      <td>count</td>\n",
       "      <td>5</td>\n",
       "    </tr>\n",
       "    <tr>\n",
       "      <th>1</th>\n",
       "      <td>mean</td>\n",
       "      <td>442.4</td>\n",
       "    </tr>\n",
       "    <tr>\n",
       "      <th>2</th>\n",
       "      <td>stddev</td>\n",
       "      <td>261.8659962652654</td>\n",
       "    </tr>\n",
       "    <tr>\n",
       "      <th>3</th>\n",
       "      <td>min</td>\n",
       "      <td>145</td>\n",
       "    </tr>\n",
       "    <tr>\n",
       "      <th>4</th>\n",
       "      <td>max</td>\n",
       "      <td>756</td>\n",
       "    </tr>\n",
       "  </tbody>\n",
       "</table>\n",
       "</div>"
      ],
      "text/plain": [
       "  summary                 _1\n",
       "0   count                  5\n",
       "1    mean              442.4\n",
       "2  stddev  261.8659962652654\n",
       "3     min                145\n",
       "4     max                756"
      ]
     },
     "execution_count": 21,
     "metadata": {},
     "output_type": "execute_result"
    }
   ],
   "source": [
    "df.limit(5).describe().toPandas()"
   ]
  },
  {
   "cell_type": "markdown",
   "metadata": {},
   "source": [
    "### `Sauvergarder nos résultat`"
   ]
  },
  {
   "cell_type": "markdown",
   "metadata": {},
   "source": [
    "### La méthode .write.mode(\"overwrite\").csv()\n",
    "\n",
    "Nous préférons cette méthode dans le cas ou notre DataFrame est très grand. ça permet de : \n",
    "\n",
    "- Gagner en performance : plus rapide d'écrire les partitions que tout fusionner.\n",
    "- Eviter les problèmes de mémoires. \n",
    "- Quand les données sont  stockés sur  : HDFS, S3, Google Cloud Storage. \n",
    "\n",
    "Nous utiliserons cette méthodes si nous voulons garder les partitions de nos données. Ou si nous souhaitons les partitionner selon des critères \n",
    "Exemple : Années et Mois. \n",
    "\n",
    "df.write.partitionBy(\"année\", \"mois\").csv(\"hdfs://chemin_output\", header=True)\n"
   ]
  },
  {
   "cell_type": "code",
   "execution_count": 24,
   "metadata": {},
   "outputs": [],
   "source": [
    "df.write.mode(\"overwrite\").csv(\"./home/jovyan/work/monDfIssueDePySpark\")"
   ]
  },
  {
   "cell_type": "markdown",
   "metadata": {},
   "source": [
    "### La méthode .coalesce(1).write.mode(\"overwrite\").csv\n",
    "\n",
    "Cette méthode est à éviter lorsque le jeu de données est extrêmement lourd. En effet, elle n'est pas efficace et très gourmande en mémoire. \n",
    "A utiliser uniquement si nous voulons avoir un seul jeu de données xlsx ou un pandas. \n",
    "\n",
    "\n",
    "- En comparaison le même df de 10 000 000 d'enregistrement est enregistré en 3.4s en multipart contre 21.8s en une seule partie et 3.3 en Parquet en plusiuers partie et 20.9 en une seule partie. \n",
    "\n",
    "ça montre que le mode parquet reste quand même le mode le plus efficace à l'export. Mais tout dépend de notre besoin final et l'usage qui sera fait de la donnée une fois exportée. µ"
   ]
  },
  {
   "cell_type": "code",
   "execution_count": 23,
   "metadata": {},
   "outputs": [],
   "source": [
    "df.coalesce(1).write.mode(\"overwrite\").csv(\"./home/jovyan/work/monDfEnUnSeulFichier\", header=True)\n"
   ]
  },
  {
   "cell_type": "markdown",
   "metadata": {},
   "source": [
    "### Les fichier Parquet \n",
    "🚀 Avantages du format Parquet :\n",
    "✅ Stockage optimisé & compression :\n",
    "\n",
    "Parquet stocke les données en colonnes et applique une compression efficace.\n",
    "Résultat : Fichiers plus petits (jusqu’à 75% d’économie comparé à CSV).\n",
    "✅ Lecture rapide & sélective :\n",
    "\n",
    "Spark ne charge que les colonnes utilisées dans une requête, ce qui accélère l'analyse.\n",
    "Ex : avec CSV, Spark doit lire tout le fichier même si on ne veut qu'une colonne.\n",
    "✅ Gère les types de données & les schémas :\n",
    "\n",
    "Parquet conserve les types natifs (int, float, date, etc.), contrairement à CSV où tout est en string.\n",
    "✅ Meilleur pour les traitements distribués :\n",
    "\n",
    "Supporte le partitionnement et l'indexation des fichiers → booste la performance.\n",
    "Fonctionne super bien avec Hive, AWS Athena, Google BigQuery."
   ]
  },
  {
   "cell_type": "code",
   "execution_count": null,
   "metadata": {},
   "outputs": [],
   "source": [
    "# En plusieurs fichiers \n",
    "df.write.mode(\"overwrite\").parquet(\"./home/jovyan/work/MonFichierParquet\")\n"
   ]
  },
  {
   "cell_type": "code",
   "execution_count": null,
   "metadata": {},
   "outputs": [],
   "source": [
    "# En un seul fichier \n",
    "df.coalesce(1).write.mode(\"overwrite\").parquet(\"./home/jovyan/work/MonFichierParquetEnUnSeulFichier\")"
   ]
  },
  {
   "cell_type": "code",
   "execution_count": null,
   "metadata": {},
   "outputs": [],
   "source": []
  }
 ],
 "metadata": {
  "kernelspec": {
   "display_name": "Python 3 (ipykernel)",
   "language": "python",
   "name": "python3"
  },
  "language_info": {
   "codemirror_mode": {
    "name": "ipython",
    "version": 3
   },
   "file_extension": ".py",
   "mimetype": "text/x-python",
   "name": "python",
   "nbconvert_exporter": "python",
   "pygments_lexer": "ipython3",
   "version": "3.11.6"
  }
 },
 "nbformat": 4,
 "nbformat_minor": 2
}
