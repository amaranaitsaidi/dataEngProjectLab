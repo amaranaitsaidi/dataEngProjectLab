{
 "cells": [
  {
   "cell_type": "code",
   "execution_count": 1,
   "metadata": {},
   "outputs": [],
   "source": [
    "from pyspark.sql import SparkSession\n",
    "import pandas as pd \n",
    "import numpy as np\n",
    "spark = SparkSession.builder \\\n",
    "    .appName(\"RedshiftAnalysis\") \\\n",
    "    .getOrCreate()"
   ]
  },
  {
   "cell_type": "code",
   "execution_count": 26,
   "metadata": {},
   "outputs": [],
   "source": [
    "import os "
   ]
  },
  {
   "cell_type": "code",
   "execution_count": 2,
   "metadata": {},
   "outputs": [],
   "source": [
    "df = spark.read.option(\"header\", \"true\").option(\"inferSchema\", \"true\").csv(\"/home/jovyan/work/clients.csv\")"
   ]
  },
  {
   "cell_type": "code",
   "execution_count": 3,
   "metadata": {},
   "outputs": [],
   "source": [
    "from pyspark.sql import functions as F\n",
    "df_clean = df.withColumn(\n",
    "    'age_clean',\n",
    "    F.when(F.col('age').isNull() | F.isnan(F.col('age')) | (F.col('age') == 'NaN'),\n",
    "          F.lit(0))\n",
    "     .otherwise(F.col('age').cast('double'))\n",
    ")\n"
   ]
  },
  {
   "cell_type": "code",
   "execution_count": 4,
   "metadata": {},
   "outputs": [],
   "source": [
    "age_moyen_df = df_clean.select(F.avg('age_clean').alias('age_moyen'))\n",
    "#extraire la valeur de l'age moyen\n",
    "ageMoyen = age_moyen_df.collect()[0][0]"
   ]
  },
  {
   "cell_type": "code",
   "execution_count": 5,
   "metadata": {},
   "outputs": [],
   "source": [
    "df_clean = df_clean.withColumn('ageMoyen', F.lit(ageMoyen))"
   ]
  },
  {
   "cell_type": "code",
   "execution_count": 6,
   "metadata": {},
   "outputs": [
    {
     "name": "stdout",
     "output_type": "stream",
     "text": [
      "+---+------------+----+--------------------+-------+---------+---------+--------+\n",
      "| id|         nom| age|               email| revenu|    ville|age_clean|ageMoyen|\n",
      "+---+------------+----+--------------------+-------+---------+---------+--------+\n",
      "|  1| Jean Dupont|25.0|jean.dupont@email...|35000.0|    Paris|     25.0|    24.7|\n",
      "|  2|        NULL|30.0|martine.lenoir@em...|42000.0|     Lyon|     30.0|    24.7|\n",
      "|  3|     Ali Ben| NaN|   ali.ben@email.com|50000.0|Marseille|      0.0|    24.7|\n",
      "|  4| Marie Curie|40.0|marie.curie@email...|   NULL|      NaN|     40.0|    24.7|\n",
      "|  5|         NaN|28.0|thomas.muller@ema...|38000.0| Bordeaux|     28.0|    24.7|\n",
      "|  6| Paul Martin|NULL|paul.martin@email...|    NaN|    Lille|      0.0|    24.7|\n",
      "|  7|Clara Durand|35.0|clara.durand@emai...|48000.0|      NaN|     35.0|    24.7|\n",
      "|  8| Lucas Morel|22.0|   lucas.morel@email|32000.0|     Nice|     22.0|    24.7|\n",
      "|  9|  Sophie NaN|38.0|sophie.blanche@em...|51000.0|   Rennes|     38.0|    24.7|\n",
      "| 10|  Marc Petit|29.0|marc.petit@email.com|45000.0| Toulouse|     29.0|    24.7|\n",
      "+---+------------+----+--------------------+-------+---------+---------+--------+\n",
      "\n"
     ]
    }
   ],
   "source": [
    "df_clean.show()"
   ]
  },
  {
   "cell_type": "code",
   "execution_count": 25,
   "metadata": {},
   "outputs": [],
   "source": [
    "# Enregistrer le dataframe pyspark dans aws redshift "
   ]
  },
  {
   "cell_type": "code",
   "execution_count": null,
   "metadata": {},
   "outputs": [],
   "source": [
    "REDSHIFT_USER = ''\n",
    "REDSHIFT_PASSWORD = ''\n",
    "# Format correct pour Redshift avec le pilote PostgreSQL\n",
    "REDSHIFT_FULL_PATH = \"jdbc:postgresql://workgroupe./././.amazonaws.com:port/db\"\n",
    "REDSHIFT_TABLE = 'clients'"
   ]
  },
  {
   "cell_type": "code",
   "execution_count": null,
   "metadata": {},
   "outputs": [],
   "source": [
    "mode = \"overwrite\"\n",
    "properties = {\n",
    "    \"user\": REDSHIFT_USER, \n",
    "    \"password\": REDSHIFT_PASSWORD, \n",
    "    \"driver\": \"org.postgresql.Driver\"\n",
    "}\n",
    "df_clean.write.jdbc(url=REDSHIFT_FULL_PATH, table=REDSHIFT_TABLE, mode=mode, properties=properties)"
   ]
  }
 ],
 "metadata": {
  "kernelspec": {
   "display_name": "Python 3 (ipykernel)",
   "language": "python",
   "name": "python3"
  },
  "language_info": {
   "codemirror_mode": {
    "name": "ipython",
    "version": 3
   },
   "file_extension": ".py",
   "mimetype": "text/x-python",
   "name": "python",
   "nbconvert_exporter": "python",
   "pygments_lexer": "ipython3",
   "version": "3.11.6"
  }
 },
 "nbformat": 4,
 "nbformat_minor": 2
}
